{
  "nbformat": 4,
  "nbformat_minor": 0,
  "metadata": {
    "colab": {
      "name": "Tokenization.ipynb",
      "provenance": [],
      "collapsed_sections": [],
      "include_colab_link": true
    },
    "kernelspec": {
      "name": "python3",
      "display_name": "Python 3"
    }
  },
  "cells": [
    {
      "cell_type": "markdown",
      "metadata": {
        "id": "view-in-github",
        "colab_type": "text"
      },
      "source": [
        "<a href=\"https://colab.research.google.com/github/maneesh51/NLP_Udemy_Course/blob/main/Tokenization.ipynb\" target=\"_parent\"><img src=\"https://colab.research.google.com/assets/colab-badge.svg\" alt=\"Open In Colab\"/></a>"
      ]
    },
    {
      "cell_type": "code",
      "source": [
        "S = ['Hi there Mr. Longbottom.', \"How're you today?\", 'Apple is a fruit, buy it online www.google.com', 'I am in U.S.A.']\n",
        "S"
      ],
      "metadata": {
        "colab": {
          "base_uri": "https://localhost:8080/"
        },
        "id": "_qVjhqpTbTpy",
        "outputId": "1b432772-5df9-48bd-d39f-70758d075636"
      },
      "execution_count": 21,
      "outputs": [
        {
          "output_type": "execute_result",
          "data": {
            "text/plain": [
              "['Hi there Mr. Longbottom.',\n",
              " \"How're you today?\",\n",
              " 'Apple is a fruit, buy it online www.google.com',\n",
              " 'I am in U.S.A.']"
            ]
          },
          "metadata": {},
          "execution_count": 21
        }
      ]
    },
    {
      "cell_type": "code",
      "source": [
        "import spacy"
      ],
      "metadata": {
        "id": "ifV27FBlbrDh"
      },
      "execution_count": 2,
      "outputs": []
    },
    {
      "cell_type": "code",
      "source": [
        "### some pre-trained models in spacy\n",
        "\n",
        "M1 = spacy.load(name='en_core_web_sm')\n",
        "\n",
        "### medium sized model need to be downloaded \n",
        "!python -m spacy download en_core_web_md\n",
        "\n",
        "import en_core_web_md\n",
        "M2 = en_core_web_md.load()"
      ],
      "metadata": {
        "id": "EaM2AaXNbZYC",
        "colab": {
          "base_uri": "https://localhost:8080/"
        },
        "outputId": "7a357641-7ddc-4f48-cad0-e079a393adbe"
      },
      "execution_count": 4,
      "outputs": [
        {
          "output_type": "stream",
          "name": "stdout",
          "text": [
            "Collecting en_core_web_md==2.2.5\n",
            "  Downloading https://github.com/explosion/spacy-models/releases/download/en_core_web_md-2.2.5/en_core_web_md-2.2.5.tar.gz (96.4 MB)\n",
            "\u001b[K     |████████████████████████████████| 96.4 MB 1.5 MB/s \n",
            "\u001b[?25hRequirement already satisfied: spacy>=2.2.2 in /usr/local/lib/python3.7/dist-packages (from en_core_web_md==2.2.5) (2.2.4)\n",
            "Requirement already satisfied: wasabi<1.1.0,>=0.4.0 in /usr/local/lib/python3.7/dist-packages (from spacy>=2.2.2->en_core_web_md==2.2.5) (0.9.1)\n",
            "Requirement already satisfied: setuptools in /usr/local/lib/python3.7/dist-packages (from spacy>=2.2.2->en_core_web_md==2.2.5) (57.4.0)\n",
            "Requirement already satisfied: tqdm<5.0.0,>=4.38.0 in /usr/local/lib/python3.7/dist-packages (from spacy>=2.2.2->en_core_web_md==2.2.5) (4.64.0)\n",
            "Requirement already satisfied: numpy>=1.15.0 in /usr/local/lib/python3.7/dist-packages (from spacy>=2.2.2->en_core_web_md==2.2.5) (1.21.5)\n",
            "Requirement already satisfied: catalogue<1.1.0,>=0.0.7 in /usr/local/lib/python3.7/dist-packages (from spacy>=2.2.2->en_core_web_md==2.2.5) (1.0.0)\n",
            "Requirement already satisfied: cymem<2.1.0,>=2.0.2 in /usr/local/lib/python3.7/dist-packages (from spacy>=2.2.2->en_core_web_md==2.2.5) (2.0.6)\n",
            "Requirement already satisfied: requests<3.0.0,>=2.13.0 in /usr/local/lib/python3.7/dist-packages (from spacy>=2.2.2->en_core_web_md==2.2.5) (2.23.0)\n",
            "Requirement already satisfied: murmurhash<1.1.0,>=0.28.0 in /usr/local/lib/python3.7/dist-packages (from spacy>=2.2.2->en_core_web_md==2.2.5) (1.0.6)\n",
            "Requirement already satisfied: thinc==7.4.0 in /usr/local/lib/python3.7/dist-packages (from spacy>=2.2.2->en_core_web_md==2.2.5) (7.4.0)\n",
            "Requirement already satisfied: preshed<3.1.0,>=3.0.2 in /usr/local/lib/python3.7/dist-packages (from spacy>=2.2.2->en_core_web_md==2.2.5) (3.0.6)\n",
            "Requirement already satisfied: plac<1.2.0,>=0.9.6 in /usr/local/lib/python3.7/dist-packages (from spacy>=2.2.2->en_core_web_md==2.2.5) (1.1.3)\n",
            "Requirement already satisfied: srsly<1.1.0,>=1.0.2 in /usr/local/lib/python3.7/dist-packages (from spacy>=2.2.2->en_core_web_md==2.2.5) (1.0.5)\n",
            "Requirement already satisfied: blis<0.5.0,>=0.4.0 in /usr/local/lib/python3.7/dist-packages (from spacy>=2.2.2->en_core_web_md==2.2.5) (0.4.1)\n",
            "Requirement already satisfied: importlib-metadata>=0.20 in /usr/local/lib/python3.7/dist-packages (from catalogue<1.1.0,>=0.0.7->spacy>=2.2.2->en_core_web_md==2.2.5) (4.11.3)\n",
            "Requirement already satisfied: zipp>=0.5 in /usr/local/lib/python3.7/dist-packages (from importlib-metadata>=0.20->catalogue<1.1.0,>=0.0.7->spacy>=2.2.2->en_core_web_md==2.2.5) (3.8.0)\n",
            "Requirement already satisfied: typing-extensions>=3.6.4 in /usr/local/lib/python3.7/dist-packages (from importlib-metadata>=0.20->catalogue<1.1.0,>=0.0.7->spacy>=2.2.2->en_core_web_md==2.2.5) (4.1.1)\n",
            "Requirement already satisfied: chardet<4,>=3.0.2 in /usr/local/lib/python3.7/dist-packages (from requests<3.0.0,>=2.13.0->spacy>=2.2.2->en_core_web_md==2.2.5) (3.0.4)\n",
            "Requirement already satisfied: idna<3,>=2.5 in /usr/local/lib/python3.7/dist-packages (from requests<3.0.0,>=2.13.0->spacy>=2.2.2->en_core_web_md==2.2.5) (2.10)\n",
            "Requirement already satisfied: urllib3!=1.25.0,!=1.25.1,<1.26,>=1.21.1 in /usr/local/lib/python3.7/dist-packages (from requests<3.0.0,>=2.13.0->spacy>=2.2.2->en_core_web_md==2.2.5) (1.24.3)\n",
            "Requirement already satisfied: certifi>=2017.4.17 in /usr/local/lib/python3.7/dist-packages (from requests<3.0.0,>=2.13.0->spacy>=2.2.2->en_core_web_md==2.2.5) (2021.10.8)\n",
            "Building wheels for collected packages: en-core-web-md\n",
            "  Building wheel for en-core-web-md (setup.py) ... \u001b[?25l\u001b[?25hdone\n",
            "  Created wheel for en-core-web-md: filename=en_core_web_md-2.2.5-py3-none-any.whl size=98051301 sha256=d554a92f842548a173f9c777f15629491ccdd061a021cba697cd3b7c0c71e842\n",
            "  Stored in directory: /tmp/pip-ephem-wheel-cache-bm0nvxav/wheels/69/c5/b8/4f1c029d89238734311b3269762ab2ee325a42da2ce8edb997\n",
            "Successfully built en-core-web-md\n",
            "Installing collected packages: en-core-web-md\n",
            "Successfully installed en-core-web-md-2.2.5\n",
            "\u001b[38;5;2m✔ Download and installation successful\u001b[0m\n",
            "You can now load the model via spacy.load('en_core_web_md')\n"
          ]
        }
      ]
    },
    {
      "cell_type": "code",
      "source": [
        "M1S=[]; M2S=[]\n",
        "for i in range(len(S)):\n",
        "  M1S.append(M1(S[i]))\n",
        "  M2S.append(M2(S[i]))\n"
      ],
      "metadata": {
        "id": "DIseA6fwcjzY"
      },
      "execution_count": 22,
      "outputs": []
    },
    {
      "cell_type": "code",
      "source": [
        "for token in M1S[2]:\n",
        "  print(token)\n",
        "for token in M2S[2]:\n",
        "  print(token)"
      ],
      "metadata": {
        "colab": {
          "base_uri": "https://localhost:8080/"
        },
        "id": "-EVVWGuAfeL8",
        "outputId": "378f5582-e3ec-4eaa-a9c0-605a0ad3e868"
      },
      "execution_count": 33,
      "outputs": [
        {
          "output_type": "stream",
          "name": "stdout",
          "text": [
            "Apple\n",
            "is\n",
            "a\n",
            "fruit\n",
            ",\n",
            "buy\n",
            "it\n",
            "online\n",
            "www.google.com\n",
            "Apple\n",
            "is\n",
            "a\n",
            "fruit\n",
            ",\n",
            "buy\n",
            "it\n",
            "online\n",
            "www.google.com\n"
          ]
        }
      ]
    },
    {
      "cell_type": "code",
      "source": [
        "print(type(M1S[2]),'\\n', len(M1S[2]))"
      ],
      "metadata": {
        "id": "rWvBWGqhfeOc",
        "colab": {
          "base_uri": "https://localhost:8080/"
        },
        "outputId": "7eeead02-599a-4934-a1ba-3b36302e606c"
      },
      "execution_count": 35,
      "outputs": [
        {
          "output_type": "stream",
          "name": "stdout",
          "text": [
            "<class 'spacy.tokens.doc.Doc'> \n",
            " 9\n"
          ]
        }
      ]
    },
    {
      "cell_type": "code",
      "source": [
        ""
      ],
      "metadata": {
        "id": "Nk8_IX7Ekb0d"
      },
      "execution_count": 19,
      "outputs": []
    },
    {
      "cell_type": "markdown",
      "source": [
        "# Stemming and lemmatization"
      ],
      "metadata": {
        "id": "wz4NZSEEmbyy"
      }
    },
    {
      "cell_type": "code",
      "source": [
        "words = ['run', 'runner', 'running', 'ran', 'runs', 'easily', 'mature']"
      ],
      "metadata": {
        "id": "tjm1gMXlkb2w"
      },
      "execution_count": 36,
      "outputs": []
    },
    {
      "cell_type": "code",
      "source": [
        "import nltk\n",
        "from nltk.stem.porter import PorterStemmer\n",
        "from nltk.stem.snowball import SnowballStemmer"
      ],
      "metadata": {
        "id": "UFKJbrqomfd5"
      },
      "execution_count": 38,
      "outputs": []
    },
    {
      "cell_type": "code",
      "source": [
        "### Stemming NLTK functions \n",
        "\n",
        "p_stemmer = PorterStemmer()\n",
        "s_stemmer = SnowballStemmer(language='english')\n",
        "\n",
        "for word in words:\n",
        "  print(word, '----', p_stemmer.stem(word))"
      ],
      "metadata": {
        "colab": {
          "base_uri": "https://localhost:8080/"
        },
        "id": "fRPLtq3vnBPv",
        "outputId": "8e094c4a-5fe4-4fe2-ae64-8f7ca48874bc"
      },
      "execution_count": 54,
      "outputs": [
        {
          "output_type": "stream",
          "name": "stdout",
          "text": [
            "run ---- run\n",
            "runner ---- runner\n",
            "running ---- run\n",
            "ran ---- ran\n",
            "runs ---- run\n",
            "easily ---- easili\n",
            "mature ---- matur\n"
          ]
        }
      ]
    },
    {
      "cell_type": "code",
      "source": [
        "for word in words:\n",
        "  print(word, '----', s_stemmer.stem(word))"
      ],
      "metadata": {
        "colab": {
          "base_uri": "https://localhost:8080/"
        },
        "id": "m8K3KpOznBSA",
        "outputId": "c39d21fc-9092-47d8-8f1a-87a8d36e7722"
      },
      "execution_count": 53,
      "outputs": [
        {
          "output_type": "stream",
          "name": "stdout",
          "text": [
            "run ---- run\n",
            "runner ---- runner\n",
            "running ---- run\n",
            "ran ---- ran\n",
            "runs ---- run\n",
            "easily ---- easili\n",
            "mature ---- matur\n"
          ]
        }
      ]
    },
    {
      "cell_type": "code",
      "source": [
        ""
      ],
      "metadata": {
        "id": "VEsJWCjymfgN"
      },
      "execution_count": 35,
      "outputs": []
    },
    {
      "cell_type": "code",
      "source": [
        "### Lemmatiztion \n",
        "\n",
        "import spacy\n",
        "nlp = spacy.load('en_core_web_sm')"
      ],
      "metadata": {
        "id": "irm_wEA3mfiQ"
      },
      "execution_count": 66,
      "outputs": []
    },
    {
      "cell_type": "code",
      "source": [
        "sentence = \"There are several important topics needs to be discussed now, but let's do it tomorrow.\"\n",
        "doc1 = nlp(sentence)"
      ],
      "metadata": {
        "id": "wryylmPRpRKS"
      },
      "execution_count": 63,
      "outputs": []
    },
    {
      "cell_type": "code",
      "source": [
        "for token in doc1:\n",
        "  print(token.text, '\\t', token.lemma_)"
      ],
      "metadata": {
        "colab": {
          "base_uri": "https://localhost:8080/"
        },
        "id": "fPHoB8RlpIL_",
        "outputId": "bee5b25e-bab5-4b6f-a341-8a1c8d3cffbb"
      },
      "execution_count": 64,
      "outputs": [
        {
          "output_type": "stream",
          "name": "stdout",
          "text": [
            "There \t there\n",
            "are \t be\n",
            "several \t several\n",
            "important \t important\n",
            "topics \t topic\n",
            "needs \t need\n",
            "to \t to\n",
            "be \t be\n",
            "discussed \t discuss\n",
            "now \t now\n",
            ", \t ,\n",
            "but \t but\n",
            "let \t let\n",
            "'s \t -PRON-\n",
            "do \t do\n",
            "it \t -PRON-\n",
            "tomorrow \t tomorrow\n",
            ". \t .\n"
          ]
        }
      ]
    },
    {
      "cell_type": "code",
      "source": [
        "for word in sentence.split():\n",
        "  print(word, '----', p_stemmer.stem(word))"
      ],
      "metadata": {
        "colab": {
          "base_uri": "https://localhost:8080/"
        },
        "id": "sZVXe-zBpINx",
        "outputId": "84292e4f-a4ad-46d2-df8c-079903e27713"
      },
      "execution_count": 65,
      "outputs": [
        {
          "output_type": "stream",
          "name": "stdout",
          "text": [
            "There ---- there\n",
            "are ---- are\n",
            "several ---- sever\n",
            "important ---- import\n",
            "topics ---- topic\n",
            "needs ---- need\n",
            "to ---- to\n",
            "be ---- be\n",
            "discussed ---- discuss\n",
            "now, ---- now,\n",
            "but ---- but\n",
            "let's ---- let'\n",
            "do ---- do\n",
            "it ---- it\n",
            "tomorrow. ---- tomorrow.\n"
          ]
        }
      ]
    },
    {
      "cell_type": "code",
      "source": [
        ""
      ],
      "metadata": {
        "id": "p7_9ydosrAtX"
      },
      "execution_count": null,
      "outputs": []
    },
    {
      "cell_type": "markdown",
      "source": [
        "# Stop words"
      ],
      "metadata": {
        "id": "VMCHxE-9rUu4"
      }
    },
    {
      "cell_type": "code",
      "source": [
        "print(len(nlp.Defaults.stop_words), '\\n', nlp.Defaults.stop_words)"
      ],
      "metadata": {
        "colab": {
          "base_uri": "https://localhost:8080/"
        },
        "id": "zuu5fmEtrWJO",
        "outputId": "8938be0d-81ee-46b4-fc46-e7caec320003"
      },
      "execution_count": 69,
      "outputs": [
        {
          "output_type": "stream",
          "name": "stdout",
          "text": [
            "326 \n",
            " {'meanwhile', '‘m', 'anyway', \"'m\", 'say', 'again', 'twenty', 'n’t', 'anywhere', 'whole', 'indeed', 'keep', 'several', 'other', 'per', 'throughout', '‘ll', 'ever', 'everyone', 'as', 'give', 'nobody', 'using', '‘d', 'though', 'otherwise', '’d', 'one', 'fifteen', 'whence', 'about', 'whose', 'whom', '’re', 'too', 'whatever', 'made', 'during', 'those', 'more', 'somewhere', 'himself', 'doing', 'below', 'among', 'therefore', 'becomes', 'really', \"'ve\", 'did', 'well', 'seem', 'ten', 'empty', 'take', 'every', 'would', 'move', 'her', 'nevertheless', 'if', 'go', 'sixty', 'was', 'their', '’m', 'here', 'show', 'nowhere', 'eleven', 'becoming', 'side', 'must', 'of', 'our', 'within', 'everything', 'yourself', 'whereupon', 'nothing', 'beforehand', 'amongst', 'how', 'then', 'why', 'after', 'could', 'eight', 'first', 'on', 'whereby', 'am', 'anyhow', \"'ll\", 'will', 'see', 'down', 'be', 'moreover', 'its', '’s', 'has', 'same', 'ca', \"'d\", 'each', 'mine', 'against', 'next', 'by', 'still', 'often', 'seeming', 'fifty', 'so', 'he', 'no', 'become', 'we', 'had', 'herself', 'formerly', 'before', 'hereafter', \"n't\", 'myself', 'the', 'mostly', 'make', 'around', 'six', 'sometimes', 'seemed', 'full', \"'re\", 'five', 'at', 'his', 'most', 'own', 'either', 'herein', 'someone', 'four', 'is', '‘s', 'thereafter', 'amount', 'very', 'them', 'few', 'cannot', 'else', 'toward', 'being', 'once', 'onto', 'never', 'top', 'used', 'up', 'unless', 'nor', 'might', 'yours', 'afterwards', 'when', 'i', 'two', 'whenever', 'beside', 'various', 'n‘t', 'everywhere', 'via', 'some', 'less', 'whereas', 'a', 'she', 'twelve', 'such', 'neither', 'with', 'noone', 'hundred', 'whether', 'but', 'it', 'except', 'and', 'have', 'are', 'thru', 'just', 'in', 'already', 'hers', 'does', 'forty', 'seems', 'without', 'always', 'what', 'or', 'do', 'front', 'because', 'beyond', 'however', 'many', 'ours', 'almost', 'bottom', 'anyone', 'since', 'somehow', 'to', \"'s\", 'namely', 'out', 'quite', 'regarding', 'this', 'into', 'from', 'part', 'yet', 'you', 'put', 'not', 'whoever', 'thence', 'together', 'itself', 'much', 'back', 'became', '’ll', 'another', 'ourselves', 'above', 'under', 'although', 'others', 'thereby', 'all', 'across', 'for', 'further', 'please', 'only', 'besides', 'latterly', 'nine', '‘re', 'alone', 'which', 'been', 'last', 'done', 'elsewhere', 'off', 'whereafter', 'who', 'themselves', 'any', 'thereupon', 'him', 'former', 'therein', 'wherever', 're', 'these', 'even', 'get', 'none', 'there', 'my', 'me', 'now', 'that', 'rather', 'hence', 'name', 'three', 'hereupon', 'enough', 'upon', 'us', 'whither', 'can', '’ve', 'than', 'latter', 'hereby', 'until', 'also', 'least', 'should', '‘ve', 'over', 'perhaps', 'serious', 'thus', 'anything', 'between', 'wherein', 'may', 'third', 'behind', 'were', 'your', 'through', 'along', 'something', 'while', 'call', 'where', 'yourselves', 'sometime', 'towards', 'due', 'an', 'they', 'both'}\n"
          ]
        }
      ]
    },
    {
      "cell_type": "code",
      "source": [
        "nlp.vocab['always'].is_stop"
      ],
      "metadata": {
        "colab": {
          "base_uri": "https://localhost:8080/"
        },
        "id": "hR5KvulxrWLq",
        "outputId": "83a061b5-f38e-474a-eee2-d9ec286740d1"
      },
      "execution_count": 76,
      "outputs": [
        {
          "output_type": "execute_result",
          "data": {
            "text/plain": [
              "True"
            ]
          },
          "metadata": {},
          "execution_count": 76
        }
      ]
    },
    {
      "cell_type": "markdown",
      "source": [
        "## adding more keywords to our stop word list"
      ],
      "metadata": {
        "id": "kRNqmTuns0DY"
      }
    },
    {
      "cell_type": "code",
      "source": [
        "New_word = 'haha'\n",
        "nlp.Defaults.stop_words.add(New_word) \n",
        "print(len(nlp.Defaults.stop_words), '\\n', nlp.Defaults.stop_words)"
      ],
      "metadata": {
        "colab": {
          "base_uri": "https://localhost:8080/"
        },
        "id": "r-1WRCPIrWN5",
        "outputId": "da0df83e-9adf-4633-9ce6-1f117fb8e2e3"
      },
      "execution_count": 91,
      "outputs": [
        {
          "output_type": "stream",
          "name": "stdout",
          "text": [
            "327 \n",
            " {'meanwhile', '‘m', 'anyway', \"'m\", 'say', 'again', 'twenty', 'n’t', 'anywhere', 'whole', 'indeed', 'keep', 'several', 'other', 'per', 'throughout', '‘ll', 'ever', 'everyone', 'as', 'give', 'nobody', 'using', '‘d', 'though', 'otherwise', '’d', 'one', 'fifteen', 'whence', 'about', 'whose', 'whom', '’re', 'too', 'whatever', 'made', 'during', 'those', 'more', 'somewhere', 'himself', 'doing', 'below', 'among', 'therefore', 'becomes', 'really', \"'ve\", 'did', 'well', 'seem', 'ten', 'empty', 'take', 'every', 'would', 'move', 'her', 'nevertheless', 'if', 'go', 'sixty', 'was', 'their', '’m', 'here', 'show', 'nowhere', 'eleven', 'becoming', 'side', 'must', 'of', 'our', 'within', 'everything', 'yourself', 'whereupon', 'nothing', 'beforehand', 'amongst', 'how', 'then', 'why', 'after', 'could', 'eight', 'first', 'on', 'whereby', 'am', 'anyhow', \"'ll\", 'will', 'see', 'down', 'be', 'moreover', 'its', '’s', 'has', 'same', 'ca', \"'d\", 'each', 'mine', 'against', 'next', 'by', 'still', 'often', 'seeming', 'fifty', 'so', 'he', 'no', 'become', 'we', 'had', 'herself', 'formerly', 'before', 'hereafter', \"n't\", 'myself', 'the', 'mostly', 'make', 'around', 'six', 'sometimes', 'seemed', 'full', \"'re\", 'five', 'at', 'his', 'most', 'own', 'either', 'herein', 'someone', 'four', 'is', '‘s', 'thereafter', 'amount', 'very', 'them', 'few', 'cannot', 'else', 'toward', 'being', 'once', 'onto', 'never', 'top', 'used', 'up', 'unless', 'nor', 'might', 'yours', 'afterwards', 'when', 'i', 'two', 'whenever', 'beside', 'various', 'n‘t', 'everywhere', 'via', 'some', 'less', 'whereas', 'a', 'she', 'twelve', 'such', 'neither', 'with', 'noone', 'hundred', 'whether', 'but', 'it', 'except', 'and', 'have', 'are', 'thru', 'just', 'in', 'already', 'hers', 'does', 'forty', 'seems', 'without', 'always', 'what', 'or', 'do', 'front', 'because', 'beyond', 'however', 'many', 'ours', 'almost', 'bottom', 'anyone', 'since', 'somehow', 'to', \"'s\", 'namely', 'out', 'quite', 'regarding', 'this', 'into', 'from', 'part', 'yet', 'you', 'put', 'not', 'whoever', 'thence', 'together', 'itself', 'much', 'back', 'became', '’ll', 'another', 'ourselves', 'above', 'under', 'although', 'others', 'thereby', 'all', 'across', 'for', 'further', 'please', 'only', 'besides', 'latterly', 'nine', '‘re', 'alone', 'which', 'been', 'last', 'done', 'elsewhere', 'off', 'whereafter', 'who', 'themselves', 'any', 'thereupon', 'him', 'former', 'therein', 'wherever', 're', 'these', 'even', 'get', 'none', 'there', 'my', 'me', 'now', 'that', 'rather', 'hence', 'name', 'three', 'hereupon', 'enough', 'upon', 'us', 'whither', 'can', '’ve', 'than', 'latter', 'hereby', 'until', 'also', 'least', 'should', '‘ve', 'over', 'perhaps', 'serious', 'thus', 'anything', 'between', 'wherein', 'may', 'third', 'behind', 'were', 'your', 'haha', 'through', 'along', 'something', 'while', 'call', 'where', 'yourselves', 'sometime', 'towards', 'due', 'an', 'they', 'both'}\n"
          ]
        }
      ]
    },
    {
      "cell_type": "code",
      "source": [
        "nlp.vocab[New_word].is_stop"
      ],
      "metadata": {
        "colab": {
          "base_uri": "https://localhost:8080/"
        },
        "id": "GgWdKmQVrWP4",
        "outputId": "bd1f50a5-1357-4e04-d93c-6ceaac56cd78"
      },
      "execution_count": 92,
      "outputs": [
        {
          "output_type": "execute_result",
          "data": {
            "text/plain": [
              "True"
            ]
          },
          "metadata": {},
          "execution_count": 92
        }
      ]
    },
    {
      "cell_type": "markdown",
      "source": [
        "## removing more keywords to our stop word list"
      ],
      "metadata": {
        "id": "I2NZ5OfltEFc"
      }
    },
    {
      "cell_type": "code",
      "source": [
        "nlp.Defaults.stop_words.remove(New_word) \n",
        "nlp.vocab[New_word].is_stop = False\n",
        "print(nlp.vocab[New_word].is_stop, '\\n', len(nlp.Defaults.stop_words), '\\n', nlp.Defaults.stop_words)"
      ],
      "metadata": {
        "colab": {
          "base_uri": "https://localhost:8080/"
        },
        "id": "acrnL6sGrWRm",
        "outputId": "9e4706e6-ee74-429e-f1ad-6c79ffb30f5c"
      },
      "execution_count": 93,
      "outputs": [
        {
          "output_type": "stream",
          "name": "stdout",
          "text": [
            "False \n",
            " 326 \n",
            " {'meanwhile', '‘m', 'anyway', \"'m\", 'say', 'again', 'twenty', 'n’t', 'anywhere', 'whole', 'indeed', 'keep', 'several', 'other', 'per', 'throughout', '‘ll', 'ever', 'everyone', 'as', 'give', 'nobody', 'using', '‘d', 'though', 'otherwise', '’d', 'one', 'fifteen', 'whence', 'about', 'whose', 'whom', '’re', 'too', 'whatever', 'made', 'during', 'those', 'more', 'somewhere', 'himself', 'doing', 'below', 'among', 'therefore', 'becomes', 'really', \"'ve\", 'did', 'well', 'seem', 'ten', 'empty', 'take', 'every', 'would', 'move', 'her', 'nevertheless', 'if', 'go', 'sixty', 'was', 'their', '’m', 'here', 'show', 'nowhere', 'eleven', 'becoming', 'side', 'must', 'of', 'our', 'within', 'everything', 'yourself', 'whereupon', 'nothing', 'beforehand', 'amongst', 'how', 'then', 'why', 'after', 'could', 'eight', 'first', 'on', 'whereby', 'am', 'anyhow', \"'ll\", 'will', 'see', 'down', 'be', 'moreover', 'its', '’s', 'has', 'same', 'ca', \"'d\", 'each', 'mine', 'against', 'next', 'by', 'still', 'often', 'seeming', 'fifty', 'so', 'he', 'no', 'become', 'we', 'had', 'herself', 'formerly', 'before', 'hereafter', \"n't\", 'myself', 'the', 'mostly', 'make', 'around', 'six', 'sometimes', 'seemed', 'full', \"'re\", 'five', 'at', 'his', 'most', 'own', 'either', 'herein', 'someone', 'four', 'is', '‘s', 'thereafter', 'amount', 'very', 'them', 'few', 'cannot', 'else', 'toward', 'being', 'once', 'onto', 'never', 'top', 'used', 'up', 'unless', 'nor', 'might', 'yours', 'afterwards', 'when', 'i', 'two', 'whenever', 'beside', 'various', 'n‘t', 'everywhere', 'via', 'some', 'less', 'whereas', 'a', 'she', 'twelve', 'such', 'neither', 'with', 'noone', 'hundred', 'whether', 'but', 'it', 'except', 'and', 'have', 'are', 'thru', 'just', 'in', 'already', 'hers', 'does', 'forty', 'seems', 'without', 'always', 'what', 'or', 'do', 'front', 'because', 'beyond', 'however', 'many', 'ours', 'almost', 'bottom', 'anyone', 'since', 'somehow', 'to', \"'s\", 'namely', 'out', 'quite', 'regarding', 'this', 'into', 'from', 'part', 'yet', 'you', 'put', 'not', 'whoever', 'thence', 'together', 'itself', 'much', 'back', 'became', '’ll', 'another', 'ourselves', 'above', 'under', 'although', 'others', 'thereby', 'all', 'across', 'for', 'further', 'please', 'only', 'besides', 'latterly', 'nine', '‘re', 'alone', 'which', 'been', 'last', 'done', 'elsewhere', 'off', 'whereafter', 'who', 'themselves', 'any', 'thereupon', 'him', 'former', 'therein', 'wherever', 're', 'these', 'even', 'get', 'none', 'there', 'my', 'me', 'now', 'that', 'rather', 'hence', 'name', 'three', 'hereupon', 'enough', 'upon', 'us', 'whither', 'can', '’ve', 'than', 'latter', 'hereby', 'until', 'also', 'least', 'should', '‘ve', 'over', 'perhaps', 'serious', 'thus', 'anything', 'between', 'wherein', 'may', 'third', 'behind', 'were', 'your', 'through', 'along', 'something', 'while', 'call', 'where', 'yourselves', 'sometime', 'towards', 'due', 'an', 'they', 'both'}\n"
          ]
        }
      ]
    },
    {
      "cell_type": "code",
      "source": [
        ""
      ],
      "metadata": {
        "id": "xEQO1t-JsvgZ"
      },
      "execution_count": 86,
      "outputs": []
    },
    {
      "cell_type": "code",
      "source": [
        ""
      ],
      "metadata": {
        "id": "vL5sYPwisvi2"
      },
      "execution_count": 79,
      "outputs": []
    },
    {
      "cell_type": "markdown",
      "source": [
        "# Vacabulary and matching\n",
        "\n",
        "### 1. Rule-based matching and\n",
        "### 2. Phrase matching"
      ],
      "metadata": {
        "id": "WjKogLsntzkP"
      }
    },
    {
      "cell_type": "code",
      "source": [
        ""
      ],
      "metadata": {
        "id": "TXSFwWJqt-Nk"
      },
      "execution_count": 93,
      "outputs": []
    },
    {
      "cell_type": "code",
      "source": [
        ""
      ],
      "metadata": {
        "id": "cTdarAwtt-Pl"
      },
      "execution_count": 93,
      "outputs": []
    },
    {
      "cell_type": "code",
      "source": [
        ""
      ],
      "metadata": {
        "id": "9ZpPs4fut-RZ"
      },
      "execution_count": null,
      "outputs": []
    },
    {
      "cell_type": "code",
      "source": [
        ""
      ],
      "metadata": {
        "id": "_pVZ0dAvsvlA"
      },
      "execution_count": 79,
      "outputs": []
    },
    {
      "cell_type": "code",
      "source": [
        ""
      ],
      "metadata": {
        "id": "26SfyBbtsvnV"
      },
      "execution_count": null,
      "outputs": []
    },
    {
      "cell_type": "code",
      "source": [
        ""
      ],
      "metadata": {
        "id": "YLl-3TS5pIPp"
      },
      "execution_count": null,
      "outputs": []
    }
  ]
}