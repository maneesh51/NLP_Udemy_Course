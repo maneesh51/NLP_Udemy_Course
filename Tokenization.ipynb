{
  "nbformat": 4,
  "nbformat_minor": 0,
  "metadata": {
    "colab": {
      "name": "Tokenization.ipynb",
      "provenance": [],
      "collapsed_sections": [],
      "include_colab_link": true
    },
    "kernelspec": {
      "name": "python3",
      "display_name": "Python 3"
    }
  },
  "cells": [
    {
      "cell_type": "markdown",
      "metadata": {
        "id": "view-in-github",
        "colab_type": "text"
      },
      "source": [
        "<a href=\"https://colab.research.google.com/github/maneesh51/NLP_Udemy_Course/blob/main/Tokenization.ipynb\" target=\"_parent\"><img src=\"https://colab.research.google.com/assets/colab-badge.svg\" alt=\"Open In Colab\"/></a>"
      ]
    },
    {
      "cell_type": "code",
      "source": [
        "S = ['Hi there Mr. Longbottom.', 'How are you today?', 'Apple is a fruit.', 'I am doing good.']\n",
        "S"
      ],
      "metadata": {
        "colab": {
          "base_uri": "https://localhost:8080/"
        },
        "id": "_qVjhqpTbTpy",
        "outputId": "2476ed06-6df9-4cea-a427-02851915733c"
      },
      "execution_count": 26,
      "outputs": [
        {
          "output_type": "execute_result",
          "data": {
            "text/plain": [
              "['Hi there Mr. Longbottom.',\n",
              " 'How are you today?',\n",
              " 'Apple is a fruit.',\n",
              " 'I am doing good.']"
            ]
          },
          "metadata": {},
          "execution_count": 26
        }
      ]
    },
    {
      "cell_type": "code",
      "source": [
        "import spacy"
      ],
      "metadata": {
        "id": "ifV27FBlbrDh"
      },
      "execution_count": 16,
      "outputs": []
    },
    {
      "cell_type": "code",
      "source": [
        "### some pre-trained models in spacy\n",
        "\n",
        "M1 = spacy.load(name='en_core_web_sm')\n",
        "\n",
        "### medium sized model need to be downloaded \n",
        "# !python -m spacy download en_core_web_md\n",
        "\n",
        "import en_core_web_md\n",
        "M2 = en_core_web_md.load()"
      ],
      "metadata": {
        "id": "EaM2AaXNbZYC"
      },
      "execution_count": 24,
      "outputs": []
    },
    {
      "cell_type": "code",
      "source": [
        "M1S=[]; M2S=[]\n",
        "for i in range(len(S)):\n",
        "  M1S.append(M1(S[i]))\n",
        "  # M2S.append(M2(si))\n"
      ],
      "metadata": {
        "id": "DIseA6fwcjzY"
      },
      "execution_count": 33,
      "outputs": []
    },
    {
      "cell_type": "code",
      "source": [
        "for token in M1S[0]:\n",
        "  print(token)"
      ],
      "metadata": {
        "colab": {
          "base_uri": "https://localhost:8080/"
        },
        "id": "-EVVWGuAfeL8",
        "outputId": "371e6b78-c5fa-4a9f-9dbd-beaea14f08e6"
      },
      "execution_count": 35,
      "outputs": [
        {
          "output_type": "stream",
          "name": "stdout",
          "text": [
            "Hi\n",
            "there\n",
            "Mr.\n",
            "Longbottom\n",
            ".\n"
          ]
        }
      ]
    },
    {
      "cell_type": "code",
      "source": [
        ""
      ],
      "metadata": {
        "id": "rWvBWGqhfeOc"
      },
      "execution_count": null,
      "outputs": []
    },
    {
      "cell_type": "code",
      "source": [
        ""
      ],
      "metadata": {
        "id": "vAeAWQu5feQ9"
      },
      "execution_count": null,
      "outputs": []
    },
    {
      "cell_type": "code",
      "source": [
        ""
      ],
      "metadata": {
        "id": "FpwDdnfHdmIx"
      },
      "execution_count": null,
      "outputs": []
    },
    {
      "cell_type": "code",
      "source": [
        ""
      ],
      "metadata": {
        "id": "tXG3py0HdmLC"
      },
      "execution_count": null,
      "outputs": []
    },
    {
      "cell_type": "code",
      "source": [
        ""
      ],
      "metadata": {
        "id": "t1eesIPLcj1o"
      },
      "execution_count": null,
      "outputs": []
    },
    {
      "cell_type": "code",
      "source": [
        ""
      ],
      "metadata": {
        "id": "vCxHjF5VbZad"
      },
      "execution_count": 13,
      "outputs": []
    },
    {
      "cell_type": "code",
      "source": [
        ""
      ],
      "metadata": {
        "id": "LzJhM931bZcC"
      },
      "execution_count": null,
      "outputs": []
    }
  ]
}